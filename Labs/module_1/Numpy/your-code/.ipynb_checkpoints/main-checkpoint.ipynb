{
 "cells": [
  {
   "cell_type": "markdown",
   "metadata": {},
   "source": [
    "# Intrduction to NumPy\n",
    "\n",
    "\n",
    "#### 1. Import NumPy under the name np."
   ]
  },
  {
   "cell_type": "code",
   "execution_count": 1,
   "metadata": {},
   "outputs": [],
   "source": [
    "# your code here\n",
    "import numpy as np"
   ]
  },
  {
   "cell_type": "markdown",
   "metadata": {},
   "source": [
    "#### 2. Print your NumPy version."
   ]
  },
  {
   "cell_type": "code",
   "execution_count": 2,
   "metadata": {},
   "outputs": [
    {
     "data": {
      "text/plain": [
       "'1.18.5'"
      ]
     },
     "execution_count": 2,
     "metadata": {},
     "output_type": "execute_result"
    }
   ],
   "source": [
    "# your code here\n",
    "np.version.version"
   ]
  },
  {
   "cell_type": "markdown",
   "metadata": {},
   "source": [
    "#### 3. Generate a 2x3x5 3-dimensional array with random values. Assign the array to variable *a*.\n",
    "**Challenge**: there are at least three easy ways that use numpy to generate random arrays. How many ways can you find?"
   ]
  },
  {
   "cell_type": "code",
   "execution_count": 3,
   "metadata": {},
   "outputs": [
    {
     "data": {
      "text/plain": [
       "array([[[0.46263659, 0.91829522, 0.02092216, 0.36284668, 0.97618319],\n",
       "        [0.2465299 , 0.73014132, 0.98610494, 0.10790907, 0.2386426 ],\n",
       "        [0.66230442, 0.83545207, 0.7797462 , 0.01002184, 0.58084131]],\n",
       "\n",
       "       [[0.96473111, 0.42474894, 0.40014122, 0.71390036, 0.91109646],\n",
       "        [0.24180972, 0.28618112, 0.62201983, 0.31368818, 0.75065059],\n",
       "        [0.20710104, 0.5185887 , 0.2983643 , 0.96056951, 0.94238428]]])"
      ]
     },
     "execution_count": 3,
     "metadata": {},
     "output_type": "execute_result"
    }
   ],
   "source": [
    "# Method 1\n",
    "a=np.random.random((2,3,5))\n",
    "a"
   ]
  },
  {
   "cell_type": "code",
   "execution_count": 4,
   "metadata": {},
   "outputs": [
    {
     "data": {
      "text/plain": [
       "array([[[0.97709254, 0.58255626, 0.21990915, 0.12575636, 0.45885539],\n",
       "        [0.09893763, 0.23966784, 0.36636626, 0.78999745, 0.03501038],\n",
       "        [0.58425234, 0.90260639, 0.33755183, 0.80789492, 0.23440024]],\n",
       "\n",
       "       [[0.0558994 , 0.44487261, 0.49893155, 0.44561956, 0.39429842],\n",
       "        [0.18521196, 0.36247948, 0.76719737, 0.87796567, 0.59697646],\n",
       "        [0.00321525, 0.23688915, 0.42720225, 0.51480648, 0.51883921]]])"
      ]
     },
     "execution_count": 4,
     "metadata": {},
     "output_type": "execute_result"
    }
   ],
   "source": [
    "# Method 2\n",
    "a1=np.random.rand(2,3,5)\n",
    "a1"
   ]
  },
  {
   "cell_type": "code",
   "execution_count": 5,
   "metadata": {},
   "outputs": [
    {
     "data": {
      "text/plain": [
       "array([[[140,  19, 185,  23,  26],\n",
       "        [ 80, 171, 451, 360, 421],\n",
       "        [249, 337, 204, 428, 159]],\n",
       "\n",
       "       [[254, 211, 201, 363, 352],\n",
       "        [280, 131, 181, 392,  86],\n",
       "        [ 40, 266,  33, 158, 130]]])"
      ]
     },
     "execution_count": 5,
     "metadata": {},
     "output_type": "execute_result"
    }
   ],
   "source": [
    "# Method 3\n",
    "a2=np.random.randint(500, size=(2,3,5))\n",
    "a2"
   ]
  },
  {
   "cell_type": "markdown",
   "metadata": {},
   "source": [
    "#### 4. Print *a*.\n"
   ]
  },
  {
   "cell_type": "code",
   "execution_count": 6,
   "metadata": {},
   "outputs": [
    {
     "name": "stdout",
     "output_type": "stream",
     "text": [
      "[[[0.46263659 0.91829522 0.02092216 0.36284668 0.97618319]\n",
      "  [0.2465299  0.73014132 0.98610494 0.10790907 0.2386426 ]\n",
      "  [0.66230442 0.83545207 0.7797462  0.01002184 0.58084131]]\n",
      "\n",
      " [[0.96473111 0.42474894 0.40014122 0.71390036 0.91109646]\n",
      "  [0.24180972 0.28618112 0.62201983 0.31368818 0.75065059]\n",
      "  [0.20710104 0.5185887  0.2983643  0.96056951 0.94238428]]]\n"
     ]
    }
   ],
   "source": [
    "# your code here\n",
    "print(a)"
   ]
  },
  {
   "cell_type": "markdown",
   "metadata": {},
   "source": [
    "#### 5. Create a 5x2x3 3-dimensional array with all values equaling 1. Assign the array to variable *b*."
   ]
  },
  {
   "cell_type": "code",
   "execution_count": 7,
   "metadata": {},
   "outputs": [],
   "source": [
    "# your code here\n",
    "b=np.ones((5,2,3))"
   ]
  },
  {
   "cell_type": "markdown",
   "metadata": {},
   "source": [
    "#### 6. Print *b*.\n"
   ]
  },
  {
   "cell_type": "code",
   "execution_count": 8,
   "metadata": {},
   "outputs": [
    {
     "name": "stdout",
     "output_type": "stream",
     "text": [
      "[[[1. 1. 1.]\n",
      "  [1. 1. 1.]]\n",
      "\n",
      " [[1. 1. 1.]\n",
      "  [1. 1. 1.]]\n",
      "\n",
      " [[1. 1. 1.]\n",
      "  [1. 1. 1.]]\n",
      "\n",
      " [[1. 1. 1.]\n",
      "  [1. 1. 1.]]\n",
      "\n",
      " [[1. 1. 1.]\n",
      "  [1. 1. 1.]]]\n"
     ]
    }
   ],
   "source": [
    "# your code here\n",
    "print(b)"
   ]
  },
  {
   "cell_type": "markdown",
   "metadata": {},
   "source": [
    "#### 7. Do *a* and *b* have the same size? How do you prove that in Python code?"
   ]
  },
  {
   "cell_type": "code",
   "execution_count": 9,
   "metadata": {},
   "outputs": [
    {
     "name": "stdout",
     "output_type": "stream",
     "text": [
      "30\n",
      "30\n"
     ]
    }
   ],
   "source": [
    "# your code here\n",
    "print(a.size)\n",
    "print(b.size)\n",
    "\n",
    "#Yes, both have the same size"
   ]
  },
  {
   "cell_type": "markdown",
   "metadata": {},
   "source": [
    "#### 8. Are you able to add *a* and *b*? Why or why not?\n"
   ]
  },
  {
   "cell_type": "code",
   "execution_count": 10,
   "metadata": {},
   "outputs": [],
   "source": [
    "# your answer here\n",
    "#No i can't because even though they have the same size, their shapes are not compatible for such computation"
   ]
  },
  {
   "cell_type": "markdown",
   "metadata": {},
   "source": [
    "#### 9. Transpose *b* so that it has the same structure of *a* (i.e. become a 2x3x5 array). Assign the transposed array to variable *c*."
   ]
  },
  {
   "cell_type": "code",
   "execution_count": 11,
   "metadata": {},
   "outputs": [
    {
     "data": {
      "text/plain": [
       "array([[[1., 1., 1., 1., 1.],\n",
       "        [1., 1., 1., 1., 1.],\n",
       "        [1., 1., 1., 1., 1.]],\n",
       "\n",
       "       [[1., 1., 1., 1., 1.],\n",
       "        [1., 1., 1., 1., 1.],\n",
       "        [1., 1., 1., 1., 1.]]])"
      ]
     },
     "execution_count": 11,
     "metadata": {},
     "output_type": "execute_result"
    }
   ],
   "source": [
    "# your code here\n",
    "c=np.transpose(b).reshape(2,3,5)\n",
    "c"
   ]
  },
  {
   "cell_type": "markdown",
   "metadata": {},
   "source": [
    "#### 10. Try to add *a* and *c*. Now it should work. Assign the sum to variable *d*. But why does it work now?"
   ]
  },
  {
   "cell_type": "code",
   "execution_count": 12,
   "metadata": {},
   "outputs": [
    {
     "data": {
      "text/plain": [
       "array([[[1.46263659, 1.91829522, 1.02092216, 1.36284668, 1.97618319],\n",
       "        [1.2465299 , 1.73014132, 1.98610494, 1.10790907, 1.2386426 ],\n",
       "        [1.66230442, 1.83545207, 1.7797462 , 1.01002184, 1.58084131]],\n",
       "\n",
       "       [[1.96473111, 1.42474894, 1.40014122, 1.71390036, 1.91109646],\n",
       "        [1.24180972, 1.28618112, 1.62201983, 1.31368818, 1.75065059],\n",
       "        [1.20710104, 1.5185887 , 1.2983643 , 1.96056951, 1.94238428]]])"
      ]
     },
     "execution_count": 12,
     "metadata": {},
     "output_type": "execute_result"
    }
   ],
   "source": [
    "# your code/answer here\n",
    "d=a+c\n",
    "d"
   ]
  },
  {
   "cell_type": "markdown",
   "metadata": {},
   "source": [
    "#### 11. Print *a* and *d*. Notice the difference and relation of the two array in terms of the values? Explain."
   ]
  },
  {
   "cell_type": "code",
   "execution_count": 13,
   "metadata": {},
   "outputs": [
    {
     "name": "stdout",
     "output_type": "stream",
     "text": [
      "This is a: [[[0.46263659 0.91829522 0.02092216 0.36284668 0.97618319]\n",
      "  [0.2465299  0.73014132 0.98610494 0.10790907 0.2386426 ]\n",
      "  [0.66230442 0.83545207 0.7797462  0.01002184 0.58084131]]\n",
      "\n",
      " [[0.96473111 0.42474894 0.40014122 0.71390036 0.91109646]\n",
      "  [0.24180972 0.28618112 0.62201983 0.31368818 0.75065059]\n",
      "  [0.20710104 0.5185887  0.2983643  0.96056951 0.94238428]]]\n",
      "This is d: [[[1.46263659 1.91829522 1.02092216 1.36284668 1.97618319]\n",
      "  [1.2465299  1.73014132 1.98610494 1.10790907 1.2386426 ]\n",
      "  [1.66230442 1.83545207 1.7797462  1.01002184 1.58084131]]\n",
      "\n",
      " [[1.96473111 1.42474894 1.40014122 1.71390036 1.91109646]\n",
      "  [1.24180972 1.28618112 1.62201983 1.31368818 1.75065059]\n",
      "  [1.20710104 1.5185887  1.2983643  1.96056951 1.94238428]]]\n"
     ]
    }
   ],
   "source": [
    "# your code/answer here\n",
    "print(\"This is a:\",a)\n",
    "print(\"This is d:\",d)\n",
    "\n",
    "#d is equal to a plus the transpose of b so this is normal that a and d ahve different values"
   ]
  },
  {
   "cell_type": "markdown",
   "metadata": {},
   "source": [
    "#### 12. Multiply *a* and *c*. Assign the result to *e*."
   ]
  },
  {
   "cell_type": "code",
   "execution_count": 14,
   "metadata": {},
   "outputs": [
    {
     "data": {
      "text/plain": [
       "array([[[0.46263659, 0.91829522, 0.02092216, 0.36284668, 0.97618319],\n",
       "        [0.2465299 , 0.73014132, 0.98610494, 0.10790907, 0.2386426 ],\n",
       "        [0.66230442, 0.83545207, 0.7797462 , 0.01002184, 0.58084131]],\n",
       "\n",
       "       [[0.96473111, 0.42474894, 0.40014122, 0.71390036, 0.91109646],\n",
       "        [0.24180972, 0.28618112, 0.62201983, 0.31368818, 0.75065059],\n",
       "        [0.20710104, 0.5185887 , 0.2983643 , 0.96056951, 0.94238428]]])"
      ]
     },
     "execution_count": 14,
     "metadata": {},
     "output_type": "execute_result"
    }
   ],
   "source": [
    "# your code here\n",
    "e=a*c\n",
    "e"
   ]
  },
  {
   "cell_type": "markdown",
   "metadata": {},
   "source": [
    "#### 13. Does *e* equal to *a*? Why or why not?\n"
   ]
  },
  {
   "cell_type": "code",
   "execution_count": 15,
   "metadata": {},
   "outputs": [
    {
     "name": "stdout",
     "output_type": "stream",
     "text": [
      "[[[ True  True  True  True  True]\n",
      "  [ True  True  True  True  True]\n",
      "  [ True  True  True  True  True]]\n",
      "\n",
      " [[ True  True  True  True  True]\n",
      "  [ True  True  True  True  True]\n",
      "  [ True  True  True  True  True]]]\n"
     ]
    }
   ],
   "source": [
    "# your code/answer here\n",
    "print(e==a)\n",
    "\n",
    "#Yes they are equal because B and the transpose of B are full of ones so when we multiply each value of A by 1, we still get A"
   ]
  },
  {
   "cell_type": "markdown",
   "metadata": {},
   "source": [
    "#### 14. Identify the max, min, and mean values in *d*. Assign those values to variables *d_max*, *d_min* and *d_mean*."
   ]
  },
  {
   "cell_type": "code",
   "execution_count": 16,
   "metadata": {},
   "outputs": [],
   "source": [
    "# your code here\n",
    "d_max=np.amax(d)\n",
    "d_min=np.amin(d)\n",
    "d_mean=np.mean(d)"
   ]
  },
  {
   "cell_type": "markdown",
   "metadata": {},
   "source": [
    "#### 15. Now we want to label the values in *d*. First create an empty array *f* with the same shape (i.e. 2x3x5) as *d* using `np.empty`.\n"
   ]
  },
  {
   "cell_type": "code",
   "execution_count": 17,
   "metadata": {},
   "outputs": [
    {
     "data": {
      "text/plain": [
       "array([[[0.46263659, 0.91829522, 0.02092216, 0.36284668, 0.97618319],\n",
       "        [0.2465299 , 0.73014132, 0.98610494, 0.10790907, 0.2386426 ],\n",
       "        [0.66230442, 0.83545207, 0.7797462 , 0.01002184, 0.58084131]],\n",
       "\n",
       "       [[0.96473111, 0.42474894, 0.40014122, 0.71390036, 0.91109646],\n",
       "        [0.24180972, 0.28618112, 0.62201983, 0.31368818, 0.75065059],\n",
       "        [0.20710104, 0.5185887 , 0.2983643 , 0.96056951, 0.94238428]]])"
      ]
     },
     "execution_count": 17,
     "metadata": {},
     "output_type": "execute_result"
    }
   ],
   "source": [
    "# your code here\n",
    "f=np.empty_like(d)\n",
    "f"
   ]
  },
  {
   "cell_type": "markdown",
   "metadata": {},
   "source": [
    "#### 16. Populate the values in *f*. \n",
    "\n",
    "For each value in *d*, if it's larger than *d_min* but smaller than *d_mean*, assign 25 to the corresponding value in *f*. If a value in *d* is larger than *d_mean* but smaller than *d_max*, assign 75 to the corresponding value in *f*. If a value equals to *d_mean*, assign 50 to the corresponding value in *f*. Assign 0 to the corresponding value(s) in *f* for *d_min* in *d*. Assign 100 to the corresponding value(s) in *f* for *d_max* in *d*. In the end, f should have only the following values: 0, 25, 50, 75, and 100.\n",
    "\n",
    "**Note**: you don't have to use Numpy in this question."
   ]
  },
  {
   "cell_type": "code",
   "execution_count": 21,
   "metadata": {},
   "outputs": [],
   "source": [
    "# your code here\n",
    "f=np.where(d==d_max,100,d)\n",
    "f=np.where(d<d_max,75,f)\n",
    "f=np.where(d==d_mean,50,f)\n",
    "f=np.where(d<d_mean,25,f)\n",
    "f=np.where(d==d_min,0,f)"
   ]
  },
  {
   "cell_type": "markdown",
   "metadata": {},
   "source": [
    "#### 17. Print *d* and *f*. Do you have your expected *f*?\n",
    "For instance, if your *d* is:\n",
    "```python\n",
    "[[[1.85836099, 1.67064465, 1.62576044, 1.40243961, 1.88454931],\n",
    "[1.75354326, 1.69403643, 1.36729252, 1.61415071, 1.12104981],\n",
    "[1.72201435, 1.1862918 , 1.87078449, 1.7726778 , 1.88180042]],\n",
    "[[1.44747908, 1.31673383, 1.02000951, 1.52218947, 1.97066381],\n",
    "[1.79129243, 1.74983003, 1.96028037, 1.85166831, 1.65450881],\n",
    "[1.18068344, 1.9587381 , 1.00656599, 1.93402165, 1.73514584]]]\n",
    "```\n",
    "Your *f* should be:\n",
    "```python\n",
    "[[[ 75.,  75.,  75.,  25.,  75.],\n",
    "[ 75.,  75.,  25.,  25.,  25.],\n",
    "[ 75.,  25.,  75.,  75.,  75.]],\n",
    "[[ 25.,  25.,  25.,  25., 100.],\n",
    "[ 75.,  75.,  75.,  75.,  75.],\n",
    "[ 25.,  75.,   0.,  75.,  75.]]]\n",
    "```"
   ]
  },
  {
   "cell_type": "code",
   "execution_count": 20,
   "metadata": {},
   "outputs": [
    {
     "name": "stdout",
     "output_type": "stream",
     "text": [
      "[[[1.46263659 1.91829522 1.02092216 1.36284668 1.97618319]\n",
      "  [1.2465299  1.73014132 1.98610494 1.10790907 1.2386426 ]\n",
      "  [1.66230442 1.83545207 1.7797462  1.01002184 1.58084131]]\n",
      "\n",
      " [[1.96473111 1.42474894 1.40014122 1.71390036 1.91109646]\n",
      "  [1.24180972 1.28618112 1.62201983 1.31368818 1.75065059]\n",
      "  [1.20710104 1.5185887  1.2983643  1.96056951 1.94238428]]]\n",
      "[[[ 25.  75.  25.  25.  75.]\n",
      "  [ 25.  75. 100.  25.  25.]\n",
      "  [ 75.  75.  75.   0.  75.]]\n",
      "\n",
      " [[ 75.  25.  25.  75.  75.]\n",
      "  [ 25.  25.  75.  25.  75.]\n",
      "  [ 25.  25.  25.  75.  75.]]]\n"
     ]
    }
   ],
   "source": [
    "# your code here\n",
    "print(d)\n",
    "print(f)"
   ]
  },
  {
   "cell_type": "markdown",
   "metadata": {},
   "source": [
    "#### 18. Bonus question: instead of using numbers (i.e. 0, 25, 50, 75, and 100), use string values  (\"A\", \"B\", \"C\", \"D\", and \"E\") to label the array elements. For the example above, the expected result is:\n",
    "\n",
    "```python\n",
    "[[[ 'D',  'D',  'D',  'B',  'D'],\n",
    "[ 'D',  'D',  'B',  'B',  'B'],\n",
    "[ 'D',  'B',  'D',  'D',  'D']],\n",
    "[[ 'B',  'B',  'B',  'B',  'E'],\n",
    "[ 'D',  'D',  'D',  'D',  'D'],\n",
    "[ 'B',  'D',   'A',  'D', 'D']]]\n",
    "```\n",
    "**Note**: you don't have to use Numpy in this question."
   ]
  },
  {
   "cell_type": "code",
   "execution_count": 22,
   "metadata": {},
   "outputs": [
    {
     "name": "stdout",
     "output_type": "stream",
     "text": [
      "[[['B' 'D' 'B' 'B' 'D']\n",
      "  ['B' 'D' 'E' 'B' 'B']\n",
      "  ['D' 'D' 'D' 'A' 'D']]\n",
      "\n",
      " [['D' 'B' 'B' 'D' 'D']\n",
      "  ['B' 'B' 'D' 'B' 'D']\n",
      "  ['B' 'B' 'B' 'D' 'D']]]\n"
     ]
    }
   ],
   "source": [
    "# your code here\n",
    "e=np.where(d==d_max,'E',d)\n",
    "e=np.where(d<d_max,'D',e)\n",
    "e=np.where(d==d_mean,'C',e)\n",
    "e=np.where(d<d_mean,'B',e)\n",
    "e=np.where(d==d_min,'A',e)\n",
    "print(e)"
   ]
  },
  {
   "cell_type": "code",
   "execution_count": null,
   "metadata": {},
   "outputs": [],
   "source": []
  }
 ],
 "metadata": {
  "kernelspec": {
   "display_name": "Python 3",
   "language": "python",
   "name": "python3"
  },
  "language_info": {
   "codemirror_mode": {
    "name": "ipython",
    "version": 3
   },
   "file_extension": ".py",
   "mimetype": "text/x-python",
   "name": "python",
   "nbconvert_exporter": "python",
   "pygments_lexer": "ipython3",
   "version": "3.8.3"
  }
 },
 "nbformat": 4,
 "nbformat_minor": 2
}
